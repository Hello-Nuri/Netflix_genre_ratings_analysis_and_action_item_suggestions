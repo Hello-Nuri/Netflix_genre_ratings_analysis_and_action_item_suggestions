{
 "cells": [
  {
   "cell_type": "markdown",
   "id": "e15aa72f-d5e2-46c1-b8b7-0e0f68bfc168",
   "metadata": {},
   "source": [
    "### **[프로젝트 설명]**\n",
    "기존 넷플릭스 영화 평점 데이터를 분석하여 새로운 컨텐츠 제작 아이디어 제안"
   ]
  },
  {
   "cell_type": "markdown",
   "id": "da881a8a-2925-4fe0-a02b-b41eb68ca849",
   "metadata": {
    "jp-MarkdownHeadingCollapsed": true
   },
   "source": [
    "### 1. 데이터 불러오기\n",
    "\n",
    "- Kaggle 넷플릭스 영화 데이터셋, IMDb 평점 데이터 활용"
   ]
  },
  {
   "cell_type": "code",
   "execution_count": 1,
   "id": "83b4e418-f163-4f92-b59d-8636ad1d7417",
   "metadata": {},
   "outputs": [],
   "source": [
    "import pandas as pd\n",
    "\n",
    "netflix_df = pd.read_csv(\"./data/NetflixOriginals.csv\", encoding = 'ISO-8859-1')"
   ]
  },
  {
   "cell_type": "code",
   "execution_count": 2,
   "id": "09dd9e80-0a5b-4062-a9cb-9d01939165f9",
   "metadata": {},
   "outputs": [
    {
     "data": {
      "text/plain": [
       "Title         0\n",
       "Genre         0\n",
       "Premiere      0\n",
       "Runtime       0\n",
       "IMDB Score    0\n",
       "Language      0\n",
       "dtype: int64"
      ]
     },
     "execution_count": 2,
     "metadata": {},
     "output_type": "execute_result"
    }
   ],
   "source": [
    "netflix_df.isnull().sum()"
   ]
  },
  {
   "cell_type": "markdown",
   "id": "b09399a4-03bb-4f90-af5c-d6906efa1317",
   "metadata": {
    "jp-MarkdownHeadingCollapsed": true
   },
   "source": [
    "### 2. 데이터 조회 및 전처리"
   ]
  },
  {
   "cell_type": "code",
   "execution_count": 3,
   "id": "dfa40dc8-2385-4537-9329-c4ac8fb284ae",
   "metadata": {
    "scrolled": true
   },
   "outputs": [
    {
     "data": {
      "text/plain": [
       "array(['Documentary', 'Thriller', 'Science fiction/Drama',\n",
       "       'Horror thriller', 'Mystery', 'Action', 'Comedy',\n",
       "       'Heist film/Thriller', 'Musical/Western/Fantasy', 'Drama',\n",
       "       'Romantic comedy', 'Action comedy', 'Horror anthology',\n",
       "       'Political thriller', 'Superhero-Comedy', 'Horror',\n",
       "       'Romance drama', 'Anime / Short', 'Superhero', 'Heist', 'Western',\n",
       "       'Animation/Superhero', 'Family film', 'Action-thriller',\n",
       "       'Teen comedy-drama', 'Romantic drama', 'Animation',\n",
       "       'Aftershow / Interview', 'Christmas musical',\n",
       "       'Science fiction adventure', 'Science fiction', 'Variety show',\n",
       "       'Comedy-drama', 'Comedy/Fantasy/Family', 'Supernatural drama',\n",
       "       'Action/Comedy', 'Action/Science fiction',\n",
       "       'Romantic teenage drama', 'Comedy / Musical', 'Musical',\n",
       "       'Science fiction/Mystery', 'Crime drama',\n",
       "       'Psychological thriller drama', 'Adventure/Comedy', 'Black comedy',\n",
       "       'Romance', 'Horror comedy', 'Christian musical',\n",
       "       'Romantic teen drama', 'Family', 'Dark comedy', 'Comedy horror',\n",
       "       'Psychological thriller', 'Biopic', 'Science fiction/Thriller',\n",
       "       'Mockumentary', 'Satire', 'One-man show', 'Romantic comedy-drama',\n",
       "       'Comedy/Horror', 'Fantasy', 'Sports-drama', 'Zombie/Heist',\n",
       "       'Psychological horror', 'Sports film', 'Comedy mystery',\n",
       "       'Romantic thriller', 'Christmas comedy', 'War-Comedy',\n",
       "       'Romantic comedy/Holiday', 'Adventure-romance', 'Adventure',\n",
       "       'Horror-thriller', 'Dance comedy', 'Stop Motion',\n",
       "       'Horror/Crime drama', 'Urban fantasy', 'Drama/Horror',\n",
       "       'Family/Comedy-drama', 'War', 'Crime thriller',\n",
       "       'Science fiction/Action', 'Teen comedy horror', 'Concert Film',\n",
       "       'Musical comedy', 'Animation/Musical/Adventure',\n",
       "       'Animation / Musicial', 'Animation/Comedy/Adventure',\n",
       "       'Action thriller', 'Anime/Science fiction', 'Animation / Short',\n",
       "       'War drama', 'Family/Christmas musical',\n",
       "       'Science fiction thriller', 'Drama / Short',\n",
       "       'Hidden-camera prank comedy', 'Spy thriller', 'Anime/Fantasy',\n",
       "       'Animated musical comedy', 'Variety Show', 'Superhero/Action',\n",
       "       'Biographical/Comedy', 'Historical-epic', 'Animation / Comedy',\n",
       "       'Christmas/Fantasy/Adventure/Comedy', 'Mentalism special',\n",
       "       'Drama-Comedy', 'Coming-of-age comedy-drama', 'Historical drama',\n",
       "       'Making-of', 'Action-adventure', 'Animation / Science Fiction',\n",
       "       'Anthology/Dark comedy', 'Musical / Short',\n",
       "       'Animation/Christmas/Comedy/Adventure'], dtype=object)"
      ]
     },
     "execution_count": 3,
     "metadata": {},
     "output_type": "execute_result"
    }
   ],
   "source": [
    "netflix_df[\"Genre\"].unique()"
   ]
  },
  {
   "cell_type": "code",
   "execution_count": 4,
   "id": "cfecb9bb-40f6-417c-89aa-f6bd3280fc72",
   "metadata": {},
   "outputs": [
    {
     "data": {
      "text/plain": [
       "array(['English/Japanese', 'Spanish', 'Italian', 'English', 'Hindi',\n",
       "       'Turkish', 'Korean', 'Indonesian', 'Malay', 'Dutch', 'French',\n",
       "       'English/Spanish', 'Portuguese', 'Filipino', 'German', 'Polish',\n",
       "       'Norwegian', 'Marathi', 'Thai', 'Swedish', 'Japanese',\n",
       "       'Spanish/Basque', 'Spanish/Catalan', 'English/Swedish',\n",
       "       'English/Taiwanese/Mandarin', 'Thia/English', 'English/Mandarin',\n",
       "       'Georgian', 'Bengali', 'Khmer/English/French', 'English/Hindi',\n",
       "       'Tamil', 'Spanish/English', 'English/Korean', 'English/Arabic',\n",
       "       'English/Russian', 'English/Akan', 'English/Ukranian/Russian'],\n",
       "      dtype=object)"
      ]
     },
     "execution_count": 4,
     "metadata": {},
     "output_type": "execute_result"
    }
   ],
   "source": [
    "netflix_df[\"Language\"].unique()"
   ]
  },
  {
   "cell_type": "code",
   "execution_count": 5,
   "id": "92bb3254-c619-4022-84a7-2f71a342a625",
   "metadata": {},
   "outputs": [
    {
     "data": {
      "text/plain": [
       "count    584.000000\n",
       "mean       6.271747\n",
       "std        0.979256\n",
       "min        2.500000\n",
       "25%        5.700000\n",
       "50%        6.350000\n",
       "75%        7.000000\n",
       "max        9.000000\n",
       "Name: IMDB Score, dtype: float64"
      ]
     },
     "execution_count": 5,
     "metadata": {},
     "output_type": "execute_result"
    }
   ],
   "source": [
    "netflix_df[\"IMDB Score\"].describe()"
   ]
  },
  {
   "cell_type": "code",
   "execution_count": 6,
   "id": "d2e25181-f470-41ff-b762-d3d2fdad8b36",
   "metadata": {},
   "outputs": [],
   "source": [
    "upper50per_df = netflix_df[netflix_df[\"IMDB Score\"]>= 6.4]"
   ]
  },
  {
   "cell_type": "code",
   "execution_count": 7,
   "id": "84d6a6f6-c911-4128-b1a3-df415f6eb0a2",
   "metadata": {
    "scrolled": true
   },
   "outputs": [
    {
     "data": {
      "text/html": [
       "<div>\n",
       "<style scoped>\n",
       "    .dataframe tbody tr th:only-of-type {\n",
       "        vertical-align: middle;\n",
       "    }\n",
       "\n",
       "    .dataframe tbody tr th {\n",
       "        vertical-align: top;\n",
       "    }\n",
       "\n",
       "    .dataframe thead th {\n",
       "        text-align: right;\n",
       "    }\n",
       "</style>\n",
       "<table border=\"1\" class=\"dataframe\">\n",
       "  <thead>\n",
       "    <tr style=\"text-align: right;\">\n",
       "      <th></th>\n",
       "      <th>Title</th>\n",
       "      <th>Genre</th>\n",
       "      <th>Premiere</th>\n",
       "      <th>Runtime</th>\n",
       "      <th>IMDB Score</th>\n",
       "      <th>Language</th>\n",
       "    </tr>\n",
       "  </thead>\n",
       "  <tbody>\n",
       "    <tr>\n",
       "      <th>583</th>\n",
       "      <td>David Attenborough: A Life on Our Planet</td>\n",
       "      <td>Documentary</td>\n",
       "      <td>October 4, 2020</td>\n",
       "      <td>83</td>\n",
       "      <td>9.0</td>\n",
       "      <td>English</td>\n",
       "    </tr>\n",
       "    <tr>\n",
       "      <th>582</th>\n",
       "      <td>Emicida: AmarElo - It's All For Yesterday</td>\n",
       "      <td>Documentary</td>\n",
       "      <td>December 8, 2020</td>\n",
       "      <td>89</td>\n",
       "      <td>8.6</td>\n",
       "      <td>Portuguese</td>\n",
       "    </tr>\n",
       "    <tr>\n",
       "      <th>581</th>\n",
       "      <td>Springsteen on Broadway</td>\n",
       "      <td>One-man show</td>\n",
       "      <td>December 16, 2018</td>\n",
       "      <td>153</td>\n",
       "      <td>8.5</td>\n",
       "      <td>English</td>\n",
       "    </tr>\n",
       "    <tr>\n",
       "      <th>580</th>\n",
       "      <td>Winter on Fire: Ukraine's Fight for Freedom</td>\n",
       "      <td>Documentary</td>\n",
       "      <td>October 9, 2015</td>\n",
       "      <td>91</td>\n",
       "      <td>8.4</td>\n",
       "      <td>English/Ukranian/Russian</td>\n",
       "    </tr>\n",
       "    <tr>\n",
       "      <th>579</th>\n",
       "      <td>Taylor Swift: Reputation Stadium Tour</td>\n",
       "      <td>Concert Film</td>\n",
       "      <td>December 31, 2018</td>\n",
       "      <td>125</td>\n",
       "      <td>8.4</td>\n",
       "      <td>English</td>\n",
       "    </tr>\n",
       "    <tr>\n",
       "      <th>...</th>\n",
       "      <td>...</td>\n",
       "      <td>...</td>\n",
       "      <td>...</td>\n",
       "      <td>...</td>\n",
       "      <td>...</td>\n",
       "      <td>...</td>\n",
       "    </tr>\n",
       "    <tr>\n",
       "      <th>316</th>\n",
       "      <td>Two Catalonias</td>\n",
       "      <td>Documentary</td>\n",
       "      <td>September 28, 2018</td>\n",
       "      <td>116</td>\n",
       "      <td>6.4</td>\n",
       "      <td>Spanish/Catalan</td>\n",
       "    </tr>\n",
       "    <tr>\n",
       "      <th>317</th>\n",
       "      <td>Walk. Ride. Rodeo.</td>\n",
       "      <td>Drama</td>\n",
       "      <td>March 8, 2019</td>\n",
       "      <td>99</td>\n",
       "      <td>6.4</td>\n",
       "      <td>English</td>\n",
       "    </tr>\n",
       "    <tr>\n",
       "      <th>318</th>\n",
       "      <td>Wheelman</td>\n",
       "      <td>Action thriller</td>\n",
       "      <td>October 20, 2017</td>\n",
       "      <td>82</td>\n",
       "      <td>6.4</td>\n",
       "      <td>English</td>\n",
       "    </tr>\n",
       "    <tr>\n",
       "      <th>319</th>\n",
       "      <td>When We First Met</td>\n",
       "      <td>Romantic comedy</td>\n",
       "      <td>February 9, 2018</td>\n",
       "      <td>97</td>\n",
       "      <td>6.4</td>\n",
       "      <td>English</td>\n",
       "    </tr>\n",
       "    <tr>\n",
       "      <th>292</th>\n",
       "      <td>Anelka: Misunderstood</td>\n",
       "      <td>Documentary</td>\n",
       "      <td>August 5, 2020</td>\n",
       "      <td>94</td>\n",
       "      <td>6.4</td>\n",
       "      <td>French</td>\n",
       "    </tr>\n",
       "  </tbody>\n",
       "</table>\n",
       "<p>292 rows × 6 columns</p>\n",
       "</div>"
      ],
      "text/plain": [
       "                                           Title            Genre  \\\n",
       "583     David Attenborough: A Life on Our Planet      Documentary   \n",
       "582    Emicida: AmarElo - It's All For Yesterday      Documentary   \n",
       "581                      Springsteen on Broadway     One-man show   \n",
       "580  Winter on Fire: Ukraine's Fight for Freedom      Documentary   \n",
       "579        Taylor Swift: Reputation Stadium Tour     Concert Film   \n",
       "..                                           ...              ...   \n",
       "316                               Two Catalonias      Documentary   \n",
       "317                           Walk. Ride. Rodeo.            Drama   \n",
       "318                                     Wheelman  Action thriller   \n",
       "319                            When We First Met  Romantic comedy   \n",
       "292                        Anelka: Misunderstood      Documentary   \n",
       "\n",
       "               Premiere  Runtime  IMDB Score                  Language  \n",
       "583     October 4, 2020       83         9.0                   English  \n",
       "582    December 8, 2020       89         8.6                Portuguese  \n",
       "581   December 16, 2018      153         8.5                   English  \n",
       "580     October 9, 2015       91         8.4  English/Ukranian/Russian  \n",
       "579   December 31, 2018      125         8.4                   English  \n",
       "..                  ...      ...         ...                       ...  \n",
       "316  September 28, 2018      116         6.4           Spanish/Catalan  \n",
       "317       March 8, 2019       99         6.4                   English  \n",
       "318    October 20, 2017       82         6.4                   English  \n",
       "319    February 9, 2018       97         6.4                   English  \n",
       "292      August 5, 2020       94         6.4                    French  \n",
       "\n",
       "[292 rows x 6 columns]"
      ]
     },
     "execution_count": 7,
     "metadata": {},
     "output_type": "execute_result"
    }
   ],
   "source": [
    "upper50per_df.sort_values(by=[\"IMDB Score\"],\n",
    "                        ascending = False\n",
    "                       )"
   ]
  },
  {
   "cell_type": "markdown",
   "id": "33f24d66-b8b3-4bba-b82f-44b49fe24dac",
   "metadata": {},
   "source": [
    "장르 대소문자, 대분류 소분류 정리하는 전처리"
   ]
  },
  {
   "cell_type": "code",
   "execution_count": 8,
   "id": "f9b32503-1d45-47d0-b4b8-1b4a83b43641",
   "metadata": {},
   "outputs": [],
   "source": [
    "pd.set_option('display.max_rows', None) # 모든 행 표시\n",
    "# pd.set_option('display.max_columns', None) # 모든 열 표시\n",
    "# pd.set_option('display.expand_frame_repr', False) # 열이 화면 너비를 초과할 때 데이터프레임을 줄 바꿈하지 않도록 설정"
   ]
  },
  {
   "cell_type": "code",
   "execution_count": 9,
   "id": "e02fa943-c582-41e0-bcd0-38dbe3040893",
   "metadata": {},
   "outputs": [],
   "source": [
    "import pandas as pd\n",
    "import re\n",
    "\n",
    "# 특수문자 없에기\n",
    "netflix_df[\"Genre\"] = netflix_df[\"Genre\"].apply(lambda x: re.sub(r'[-/]', ' ', x).strip())"
   ]
  },
  {
   "cell_type": "code",
   "execution_count": 10,
   "id": "3886aa6b-2db1-4c7a-a32c-7efd74b8acc3",
   "metadata": {},
   "outputs": [],
   "source": [
    "for i in range(len(netflix_df)):\n",
    "    netflix_df.at[i, \"Genre\"] = re.sub(r'\\bScience fiction\\b', 'Sci-Fi', netflix_df.at[i, \"Genre\"], flags=re.IGNORECASE)"
   ]
  },
  {
   "cell_type": "code",
   "execution_count": 11,
   "id": "43e7b92c-afde-414c-8a16-95c4ba57c53b",
   "metadata": {},
   "outputs": [],
   "source": [
    "for i in range(len(netflix_df)):\n",
    "    netflix_df.at[i, \"Genre\"] = re.sub(r'\\bAnimation\\b', 'Anime', netflix_df.at[i, \"Genre\"], flags=re.IGNORECASE)"
   ]
  },
  {
   "cell_type": "code",
   "execution_count": 12,
   "id": "76727dd2-7214-4205-b05e-8ee724917bf8",
   "metadata": {},
   "outputs": [],
   "source": [
    "# 두 칸 공백 한칸 공백으로 수정하기\n",
    "for i in range(len(netflix_df)):\n",
    "    netflix_df.at[i, \"Genre\"] = re.sub(r'\\s+', ' ', netflix_df.at[i, \"Genre\"]).strip()"
   ]
  },
  {
   "cell_type": "code",
   "execution_count": 13,
   "id": "9f95717b-b570-4d34-a817-f7ffeee6a39d",
   "metadata": {},
   "outputs": [],
   "source": [
    "# 띄어쓰기 뒤에 나오는 알파벳을 소문자로 변환\n",
    "for i in range(len(netflix_df)):\n",
    "    genre = netflix_df.at[i, \"Genre\"]\n",
    "    genre = re.sub(r'(\\s+)(\\w)', lambda m: m.group(1) + m.group(2).lower(),genre)\n",
    "    netflix_df.at[i, \"Genre\"] = genre"
   ]
  },
  {
   "cell_type": "code",
   "execution_count": 14,
   "id": "1797cc6c-2298-4cfb-a2ca-4a7b0ea817c4",
   "metadata": {},
   "outputs": [],
   "source": [
    "# 동일한 카테고리 대소문자 정리\n",
    "netflix_df[\"Genre\"] = netflix_df[\"Genre\"].str.replace(r'Variety Show', 'Variety show', regex=True)"
   ]
  },
  {
   "cell_type": "code",
   "execution_count": 15,
   "id": "053b6061-397a-418e-8349-75bf19577071",
   "metadata": {},
   "outputs": [],
   "source": [
    "# Dark comedy, Black comedy 합치기\n",
    "netflix_df[\"Genre\"] = netflix_df[\"Genre\"].str.replace(r'Anthology/Dark comedy', 'Dark-comedy', regex=True)\n",
    "netflix_df[\"Genre\"] = netflix_df[\"Genre\"].str.replace(r'Black comedy', 'Dark-comedy', regex=True)"
   ]
  },
  {
   "cell_type": "code",
   "execution_count": 16,
   "id": "bc127e1c-33f6-4fa3-8fa4-10cc9fc5107a",
   "metadata": {},
   "outputs": [],
   "source": [
    "# 오타, 비슷한 장르명 합치기\n",
    "netflix_df[\"Genre\"] = netflix_df[\"Genre\"].str.replace('Christian musical', 'Christmas musical', regex=True)"
   ]
  },
  {
   "cell_type": "code",
   "execution_count": 17,
   "id": "36eb39c0-7630-44ef-98f1-c34e7edee7bc",
   "metadata": {},
   "outputs": [],
   "source": [
    "# 전처리 1차 저장\n",
    "netflix_df.to_csv(\"./data/Netflix_mission_processed_1.csv\", index=False)"
   ]
  },
  {
   "cell_type": "code",
   "execution_count": 18,
   "id": "f65d831e-ed1b-480f-b712-bddd45929ac6",
   "metadata": {},
   "outputs": [],
   "source": [
    "# 전처리 2차 시작\n",
    "import pandas as pd\n",
    "\n",
    "netflix_df2 = pd.read_csv(\"./data/Netflix_mission_processed_1.csv\", encoding = 'ISO-8859-1')"
   ]
  },
  {
   "cell_type": "code",
   "execution_count": 19,
   "id": "f081e325-38f8-4916-8213-71ea5b1980fe",
   "metadata": {
    "scrolled": true
   },
   "outputs": [
    {
     "data": {
      "text/plain": [
       "Genre\n",
       "Action                                  7\n",
       "Action adventure                        1\n",
       "Action comedy                           6\n",
       "Action sci-Fi                           1\n",
       "Action thriller                         4\n",
       "Adventure                               2\n",
       "Adventure comedy                        1\n",
       "Adventure romance                       1\n",
       "Aftershow interview                     6\n",
       "Animated musical comedy                 1\n",
       "Anime                                   5\n",
       "Anime christmas comedy adventure        1\n",
       "Anime comedy                            1\n",
       "Anime comedy adventure                  1\n",
       "Anime fantasy                           1\n",
       "Anime musical adventure                 1\n",
       "Anime musicial                          1\n",
       "Anime sci-Fi                            3\n",
       "Anime short                             5\n",
       "Anime superhero                         1\n",
       "Anthology dark comedy                   1\n",
       "Biographical comedy                     1\n",
       "Biopic                                  9\n",
       "Christmas comedy                        1\n",
       "Christmas fantasy adventure comedy      1\n",
       "Christmas musical                       2\n",
       "Comedy                                 49\n",
       "Comedy drama                           14\n",
       "Comedy fantasy family                   1\n",
       "Comedy horror                           2\n",
       "Comedy musical                          2\n",
       "Comedy mystery                          1\n",
       "Coming of age comedy drama              1\n",
       "Concert film                            6\n",
       "Crime drama                            11\n",
       "Crime thriller                          1\n",
       "Dance comedy                            1\n",
       "Dark comedy                             2\n",
       "Dark-comedy                             2\n",
       "Documentary                           159\n",
       "Drama                                  77\n",
       "Drama comedy                            1\n",
       "Drama horror                            1\n",
       "Drama short                             1\n",
       "Family                                  2\n",
       "Family christmas musical                1\n",
       "Family comedy drama                     1\n",
       "Family film                             2\n",
       "Fantasy                                 1\n",
       "Heist                                   1\n",
       "Heist film thriller                     1\n",
       "Hidden camera prank comedy              1\n",
       "Historical drama                        1\n",
       "Historical epic                         1\n",
       "Horror                                  9\n",
       "Horror anthology                        1\n",
       "Horror comedy                           1\n",
       "Horror crime drama                      1\n",
       "Horror thriller                         5\n",
       "Making of                               2\n",
       "Mentalism special                       1\n",
       "Mockumentary                            2\n",
       "Musical                                 2\n",
       "Musical comedy                          2\n",
       "Musical short                           1\n",
       "Musical western fantasy                 1\n",
       "Mystery                                 2\n",
       "One man show                            3\n",
       "Political thriller                      1\n",
       "Psychological horror                    1\n",
       "Psychological thriller                  4\n",
       "Psychological thriller drama            1\n",
       "Romance                                 6\n",
       "Romance drama                           1\n",
       "Romantic comedy                        39\n",
       "Romantic comedy drama                   1\n",
       "Romantic comedy holiday                 1\n",
       "Romantic drama                          5\n",
       "Romantic teen drama                     1\n",
       "Romantic teenage drama                  1\n",
       "Romantic thriller                       1\n",
       "Satire                                  2\n",
       "Sci-Fi                                  4\n",
       "Sci-Fi action                           1\n",
       "Sci-Fi adventure                        1\n",
       "Sci-Fi drama                            3\n",
       "Sci-Fi mystery                          1\n",
       "Sci-Fi thriller                         5\n",
       "Sports drama                            3\n",
       "Sports film                             1\n",
       "Spy thriller                            2\n",
       "Stop motion                             1\n",
       "Superhero                               2\n",
       "Superhero action                        1\n",
       "Superhero comedy                        1\n",
       "Supernatural drama                      1\n",
       "Teen comedy drama                       1\n",
       "Teen comedy horror                      1\n",
       "Thriller                               33\n",
       "Urban fantasy                           1\n",
       "Variety show                            5\n",
       "War                                     2\n",
       "War comedy                              1\n",
       "War drama                               2\n",
       "Western                                 3\n",
       "Zombie heist                            1\n",
       "dtype: int64"
      ]
     },
     "execution_count": 19,
     "metadata": {},
     "output_type": "execute_result"
    }
   ],
   "source": [
    "netflix_df2.groupby(\"Genre\").size()"
   ]
  },
  {
   "cell_type": "markdown",
   "id": "30113aa1-8cfd-4236-b7d4-0552a0caccfc",
   "metadata": {},
   "source": [
    "오타, 비슷한 장르명 합치기"
   ]
  },
  {
   "cell_type": "code",
   "execution_count": 20,
   "id": "1f8574b9-0580-4892-b8d2-28320a53b688",
   "metadata": {},
   "outputs": [],
   "source": [
    "netflix_df2[\"Genre\"] = netflix_df2[\"Genre\"].str.replace(r'Anime musicial', 'Anime musical', regex=True)"
   ]
  },
  {
   "cell_type": "code",
   "execution_count": 21,
   "id": "e9a1a94c-1758-4eac-b0cc-bcfc8c15073d",
   "metadata": {},
   "outputs": [],
   "source": [
    "netflix_df2[\"Genre\"] = netflix_df2[\"Genre\"].str.replace(r'Animated musical comedy', 'Anime comedy', regex=True)"
   ]
  },
  {
   "cell_type": "code",
   "execution_count": 22,
   "id": "a006de70-cdb9-46a8-b9f4-003327f35189",
   "metadata": {},
   "outputs": [],
   "source": [
    "netflix_df2[\"Genre\"] = netflix_df2[\"Genre\"].str.replace(r'Anime christmas comedy adventure', 'Anime christmas', regex=True)"
   ]
  },
  {
   "cell_type": "code",
   "execution_count": 23,
   "id": "59fbf955-5763-45d4-8a62-32e82dc08c50",
   "metadata": {},
   "outputs": [],
   "source": [
    "netflix_df2[\"Genre\"] = netflix_df2[\"Genre\"].str.replace(r'Romance drama', 'Romantic drama', regex=True)"
   ]
  },
  {
   "cell_type": "code",
   "execution_count": 24,
   "id": "255856fb-c861-4da1-9958-07a5cf3cc35f",
   "metadata": {},
   "outputs": [],
   "source": [
    "netflix_df2[\"Genre\"] = netflix_df2[\"Genre\"].str.replace(r'Romantic teenage drama', 'Romantic teen drama', regex=True)"
   ]
  },
  {
   "cell_type": "code",
   "execution_count": 25,
   "id": "e94bc0be-cffd-4058-93e8-721ed1e180c8",
   "metadata": {},
   "outputs": [],
   "source": [
    "netflix_df2[\"Genre\"] = netflix_df2[\"Genre\"].str.replace(r'Stop motion', 'Anime christmas', regex=True)"
   ]
  },
  {
   "cell_type": "code",
   "execution_count": 26,
   "id": "bdd518e1-e436-4f54-92a0-4d2a26106c0f",
   "metadata": {},
   "outputs": [],
   "source": [
    "netflix_df2[\"Genre\"] = netflix_df2[\"Genre\"].str.replace(r'Anime comedy adventure', 'Anime comedy', regex=True)"
   ]
  },
  {
   "cell_type": "code",
   "execution_count": 27,
   "id": "2ed3e856-97b6-437d-8bb4-54eb79abaf54",
   "metadata": {},
   "outputs": [],
   "source": [
    "netflix_df2[\"Genre\"] = netflix_df2[\"Genre\"].str.replace(r'Anime musical adventure', 'Anime musical', regex=True)"
   ]
  },
  {
   "cell_type": "markdown",
   "id": "aa8bf9bd-156c-4632-9d62-c852f3038cd4",
   "metadata": {},
   "source": [
    "superhero 카테고리 없에기"
   ]
  },
  {
   "cell_type": "code",
   "execution_count": 28,
   "id": "ae14d555-6aa0-47ce-a431-c085d89e32bc",
   "metadata": {},
   "outputs": [],
   "source": [
    "netflix_df2[\"Genre\"] = netflix_df2[\"Genre\"].str.replace(r'Superhero comedy', 'Action comedy', regex=True)"
   ]
  },
  {
   "cell_type": "code",
   "execution_count": 29,
   "id": "07c7f2ab-cb75-4539-ab11-7ae0e26e9069",
   "metadata": {},
   "outputs": [],
   "source": [
    "netflix_df2.loc[98, 'Genre'] = 'Action'"
   ]
  },
  {
   "cell_type": "code",
   "execution_count": 30,
   "id": "cd0ecd5b-f7bf-47ac-b37b-0cbaab220005",
   "metadata": {},
   "outputs": [],
   "source": [
    "netflix_df2[\"Genre\"] = netflix_df2[\"Genre\"].str.replace(r'Superhero', 'Action comedy', regex=True)"
   ]
  },
  {
   "cell_type": "code",
   "execution_count": 31,
   "id": "78d37e7c-4cd9-4157-b3c8-37f52937cb92",
   "metadata": {},
   "outputs": [],
   "source": [
    "netflix_df2[\"Genre\"] = netflix_df2[\"Genre\"].str.replace(r'Anime superhero', 'Documentary', regex=True)"
   ]
  },
  {
   "cell_type": "code",
   "execution_count": 32,
   "id": "02cc967c-0687-4d91-b95d-3519e86f7a1b",
   "metadata": {},
   "outputs": [],
   "source": [
    "netflix_df2[\"Genre\"] = netflix_df2[\"Genre\"].str.replace(r'Superhero comedy', 'Action adventure', regex=True)"
   ]
  },
  {
   "cell_type": "code",
   "execution_count": 33,
   "id": "ef9ab433-b3d0-4ef0-9bbe-f7630d1f84b6",
   "metadata": {},
   "outputs": [],
   "source": [
    "netflix_df2[\"Genre\"] = netflix_df2[\"Genre\"].str.replace(r'Superhero action', 'Action adventure', regex=True)"
   ]
  },
  {
   "cell_type": "markdown",
   "id": "e3b1d7f7-5a35-4221-9262-cdb72aae5a24",
   "metadata": {},
   "source": [
    "christmas,Familly 카테고리 소분류 카테고리로 수정 -> 크리스마스 대분류로 이동"
   ]
  },
  {
   "cell_type": "code",
   "execution_count": 34,
   "id": "76db73aa-29f9-406e-b368-8a3dd9d2eda0",
   "metadata": {},
   "outputs": [],
   "source": [
    "netflix_df2[\"Genre\"] = netflix_df2[\"Genre\"].str.replace(r'Christmas fantasy adventure comedy', 'Christmas comedy', regex=True)"
   ]
  },
  {
   "cell_type": "code",
   "execution_count": 35,
   "id": "e7234dc1-64e9-48ee-94bc-96207c639036",
   "metadata": {},
   "outputs": [],
   "source": [
    "netflix_df2[\"Genre\"] = netflix_df2[\"Genre\"].str.replace(r'Family christmas musical', 'Christmas musical', regex=True)"
   ]
  },
  {
   "cell_type": "code",
   "execution_count": 36,
   "id": "4bea990c-6e3f-440c-96a0-35370679686e",
   "metadata": {},
   "outputs": [],
   "source": [
    "netflix_df2[\"Genre\"] = netflix_df2[\"Genre\"].str.replace(r'Family film', 'Christmas comedy', regex=True)"
   ]
  },
  {
   "cell_type": "code",
   "execution_count": 37,
   "id": "15d7d938-0dfb-4706-a14b-d4ae25ff2ce9",
   "metadata": {},
   "outputs": [],
   "source": [
    "netflix_df2[\"Genre\"] = netflix_df2[\"Genre\"].str.replace(r'Comedy fantasy family', 'Fantasy', regex=True)"
   ]
  },
  {
   "cell_type": "code",
   "execution_count": 38,
   "id": "627e97e3-3543-4024-b550-dd71d840c76e",
   "metadata": {},
   "outputs": [],
   "source": [
    "netflix_df2[\"Genre\"] = netflix_df2[\"Genre\"].str.replace(r'Family', 'Comedy drama', regex=True)"
   ]
  },
  {
   "cell_type": "code",
   "execution_count": 39,
   "id": "5955fcab-f459-45b0-99bd-14dcccf514b3",
   "metadata": {},
   "outputs": [],
   "source": [
    "netflix_df2[\"Genre\"] = netflix_df2[\"Genre\"].str.replace(r'Comedy fantasy family', 'Fantasy', regex=True)"
   ]
  },
  {
   "cell_type": "code",
   "execution_count": 40,
   "id": "d8f91b17-25a5-4851-956a-a55abb53c398",
   "metadata": {},
   "outputs": [],
   "source": [
    "netflix_df2.loc[225, 'Genre'] = 'Adventure'"
   ]
  },
  {
   "cell_type": "code",
   "execution_count": 41,
   "id": "1389fbdb-8943-4f53-9ccd-c408265674ae",
   "metadata": {},
   "outputs": [],
   "source": [
    "netflix_df2.loc[266, 'Genre'] = 'Adventure'"
   ]
  },
  {
   "cell_type": "code",
   "execution_count": 42,
   "id": "b8e20d36-e003-4ab3-a691-d64969a2636c",
   "metadata": {},
   "outputs": [],
   "source": [
    "netflix_df2.loc[270, 'Genre'] = 'Adventure'"
   ]
  },
  {
   "cell_type": "code",
   "execution_count": 43,
   "id": "743bf5a2-4626-410d-8ffb-f6bcdb282ae4",
   "metadata": {},
   "outputs": [],
   "source": [
    "netflix_df2.loc[\n",
    "    netflix_df2['Title'].str.contains('christ', case=False, na=False) & netflix_df2['Genre'].str.contains('Romantic', case=False, na=False),\n",
    "    'Genre'\n",
    "] = 'Christmas Romance'"
   ]
  },
  {
   "cell_type": "code",
   "execution_count": 44,
   "id": "eff86f0a-985d-43bf-b3d4-2581f2d95a83",
   "metadata": {},
   "outputs": [],
   "source": [
    "netflix_df2['Premiere'] = pd.to_datetime(netflix_df2['Premiere'], errors='coerce')\n",
    "netflix_df2.loc[\n",
    "    netflix_df2['Premiere'].dt.month.isin([11, 12]) & netflix_df2['Genre'].str.contains('Romantic comedy', case=False, na=False),\n",
    "    'Genre'\n",
    "] = 'Christmas Romance'"
   ]
  },
  {
   "cell_type": "code",
   "execution_count": 45,
   "id": "6b3a59c8-e2d7-41dc-b1a2-749507036432",
   "metadata": {},
   "outputs": [],
   "source": [
    "netflix_df2.loc[\n",
    "    netflix_df2['Title'].str.contains('christ', case=False, na=False) & netflix_df2['Genre'].str.contains('Anime', case=False, na=False),\n",
    "    'Genre'\n",
    "] = 'Anime christmas'"
   ]
  },
  {
   "cell_type": "code",
   "execution_count": 46,
   "id": "1cd19ecc-159c-4c6a-bc67-cad21180f027",
   "metadata": {},
   "outputs": [],
   "source": [
    "netflix_df2.loc[377, 'Genre'] = 'Christmas comedy'"
   ]
  },
  {
   "cell_type": "code",
   "execution_count": 47,
   "id": "c3c38f3c-2872-4118-83e1-cf9370d78e61",
   "metadata": {},
   "outputs": [],
   "source": [
    "netflix_df2.loc[226, 'Genre'] = 'Christmas Romance'"
   ]
  },
  {
   "cell_type": "markdown",
   "id": "7777b6c0-210b-4cf7-9d6c-62e370f547eb",
   "metadata": {},
   "source": [
    "뮤지컬 카테고리 없애기"
   ]
  },
  {
   "cell_type": "code",
   "execution_count": 48,
   "id": "5cc4cb52-6ee4-4337-bc8c-182c31b23764",
   "metadata": {},
   "outputs": [],
   "source": [
    "netflix_df2.loc[107, 'Genre'] = 'Christmas musical'"
   ]
  },
  {
   "cell_type": "code",
   "execution_count": 49,
   "id": "136a6c9c-a290-42b1-ae92-4af19cc5bb08",
   "metadata": {},
   "outputs": [],
   "source": [
    "netflix_df2.loc[107, 'Genre'] = 'Christmas musical'"
   ]
  },
  {
   "cell_type": "code",
   "execution_count": 50,
   "id": "00144d5f-648f-4ee0-9010-f06fa8f4deea",
   "metadata": {},
   "outputs": [],
   "source": [
    "netflix_df2.loc[141, 'Genre'] = 'Drama musical'"
   ]
  },
  {
   "cell_type": "code",
   "execution_count": 51,
   "id": "8872e6dc-b9b4-471e-a534-386d2cca5f5e",
   "metadata": {},
   "outputs": [],
   "source": [
    "netflix_df2.loc[204, 'Genre'] = 'Comedy musical'"
   ]
  },
  {
   "cell_type": "code",
   "execution_count": 52,
   "id": "d36026dd-21e8-4866-b242-61d53704048f",
   "metadata": {},
   "outputs": [],
   "source": [
    "netflix_df2.loc[108, 'Genre'] = 'Drama musical'"
   ]
  },
  {
   "cell_type": "code",
   "execution_count": 53,
   "id": "20ea692f-e30b-4d81-a239-1cb296f4959e",
   "metadata": {},
   "outputs": [],
   "source": [
    "netflix_df2.loc[296, 'Genre'] = 'Comedy musical'"
   ]
  },
  {
   "cell_type": "code",
   "execution_count": 54,
   "id": "17da4cf1-ef6f-4bf2-a141-832019d730a0",
   "metadata": {},
   "outputs": [],
   "source": [
    "netflix_df2.loc[330, 'Genre'] = 'Comedy musical'"
   ]
  },
  {
   "cell_type": "markdown",
   "id": "c9af695f-eef6-470a-a050-f8b0e105e025",
   "metadata": {},
   "source": [
    "War 카테고리 액션으로 넣기"
   ]
  },
  {
   "cell_type": "code",
   "execution_count": 55,
   "id": "b305342d-0e41-4a20-820c-a0a3561d9727",
   "metadata": {},
   "outputs": [],
   "source": [
    "netflix_df2.loc[219, 'Genre'] = 'Action War'"
   ]
  },
  {
   "cell_type": "code",
   "execution_count": 56,
   "id": "eea94fe9-8f39-42dd-9710-46145b41d7ea",
   "metadata": {},
   "outputs": [],
   "source": [
    "netflix_df2.loc[\n",
    "    netflix_df2['Genre'].str.contains('War', case=False, na=False),\n",
    "    'Genre'\n",
    "] = 'Action War'"
   ]
  },
  {
   "cell_type": "markdown",
   "id": "7a424389-923e-4faf-b985-c9fe8f6b2ac0",
   "metadata": {},
   "source": [
    "western,histories 카테고리 없애기"
   ]
  },
  {
   "cell_type": "code",
   "execution_count": 57,
   "id": "1cffd327-55ee-424f-8fe1-314d46a71264",
   "metadata": {},
   "outputs": [],
   "source": [
    "netflix_df2.loc[\n",
    "    netflix_df2['Genre'].str.contains('western', case=False, na=False),\n",
    "    'Genre'\n",
    "] = 'Action Western'"
   ]
  },
  {
   "cell_type": "code",
   "execution_count": 58,
   "id": "01e8f225-ff98-4f3a-8b81-b5c1b7e3b8ca",
   "metadata": {},
   "outputs": [],
   "source": [
    "netflix_df2.loc[\n",
    "    netflix_df2['Genre'].str.contains('histori', case=False, na=False),\n",
    "    'Genre'\n",
    "] = 'Action War'"
   ]
  },
  {
   "cell_type": "markdown",
   "id": "36aeb44b-11af-4365-a3af-85d858e77e62",
   "metadata": {},
   "source": [
    "fantasy 정리"
   ]
  },
  {
   "cell_type": "code",
   "execution_count": 59,
   "id": "d32736b7-5476-4176-97c1-4ed1f9f52997",
   "metadata": {},
   "outputs": [],
   "source": [
    "netflix_df2.loc[267, 'Genre'] = 'Action Fantasy'"
   ]
  },
  {
   "cell_type": "code",
   "execution_count": 60,
   "id": "302eeb07-fa97-4ac1-b955-d95f2dcfd7d4",
   "metadata": {},
   "outputs": [],
   "source": [
    "netflix_df2.loc[186, 'Genre'] = 'Christmas comedy'"
   ]
  },
  {
   "cell_type": "code",
   "execution_count": 61,
   "id": "4df6d9e8-f0fd-4f9f-bb97-746e1e8b5b5c",
   "metadata": {},
   "outputs": [],
   "source": [
    "netflix_df2.loc[94, 'Genre'] = 'Action Fantasy'"
   ]
  },
  {
   "cell_type": "code",
   "execution_count": 62,
   "id": "48b3abe3-172e-416d-8e42-19b1741cdf70",
   "metadata": {},
   "outputs": [],
   "source": [
    "netflix_df2.loc[507, 'Genre'] = 'Action Fantasy'"
   ]
  },
  {
   "cell_type": "code",
   "execution_count": 63,
   "id": "9dc128cf-f669-4962-adb0-ad7530cfb07c",
   "metadata": {},
   "outputs": [],
   "source": [
    "netflix_df2.loc[104, 'Genre'] = 'Action Fantasy'"
   ]
  },
  {
   "cell_type": "code",
   "execution_count": 64,
   "id": "e42ccba9-5ad1-47ec-80db-76921dfb3c58",
   "metadata": {},
   "outputs": [
    {
     "data": {
      "text/plain": [
       "Genre\n",
       "Action                            8\n",
       "Action Fantasy                    4\n",
       "Action War                        7\n",
       "Action Western                    4\n",
       "Action comedy                     9\n",
       "Action comedy action              1\n",
       "Action thriller                   4\n",
       "Adventure                         5\n",
       "Adventure comedy                  1\n",
       "Adventure romance                 1\n",
       "Aftershow interview               6\n",
       "Anime                             3\n",
       "Anime christmas                   4\n",
       "Anime comedy                      3\n",
       "Anime fantasy                     1\n",
       "Anime musical                     2\n",
       "Anime sci-Fi                      3\n",
       "Anime short                       5\n",
       "Anthology dark comedy             1\n",
       "Biographical comedy               1\n",
       "Biopic                            9\n",
       "Christmas Romance                12\n",
       "Christmas comedy                  5\n",
       "Christmas musical                 3\n",
       "Comedy                           48\n",
       "Comedy drama                     15\n",
       "Comedy horror                     2\n",
       "Comedy musical                    4\n",
       "Comedy mystery                    1\n",
       "Coming of age comedy drama        1\n",
       "Concert film                      6\n",
       "Crime drama                      11\n",
       "Crime thriller                    1\n",
       "Dance comedy                      1\n",
       "Dark comedy                       2\n",
       "Dark-comedy                       2\n",
       "Documentary                     160\n",
       "Drama                            77\n",
       "Drama comedy                      1\n",
       "Drama horror                      1\n",
       "Drama musical                     2\n",
       "Drama short                       1\n",
       "Heist                             1\n",
       "Heist film thriller               1\n",
       "Hidden camera prank comedy        1\n",
       "Horror                            9\n",
       "Horror anthology                  1\n",
       "Horror comedy                     1\n",
       "Horror crime drama                1\n",
       "Horror thriller                   5\n",
       "Making of                         2\n",
       "Mentalism special                 1\n",
       "Mockumentary                      2\n",
       "Musical short                     1\n",
       "Mystery                           2\n",
       "One man show                      3\n",
       "Political thriller                1\n",
       "Psychological horror              1\n",
       "Psychological thriller            4\n",
       "Psychological thriller drama      1\n",
       "Romance                           6\n",
       "Romantic comedy                  29\n",
       "Romantic comedy drama             1\n",
       "Romantic drama                    5\n",
       "Romantic teen drama               2\n",
       "Romantic thriller                 1\n",
       "Satire                            2\n",
       "Sci-Fi                            4\n",
       "Sci-Fi action                     1\n",
       "Sci-Fi adventure                  1\n",
       "Sci-Fi drama                      3\n",
       "Sci-Fi mystery                    1\n",
       "Sci-Fi thriller                   5\n",
       "Sports drama                      3\n",
       "Sports film                       1\n",
       "Spy thriller                      2\n",
       "Teen comedy drama                 1\n",
       "Teen comedy horror                1\n",
       "Thriller                         33\n",
       "Variety show                      5\n",
       "Zombie heist                      1\n",
       "dtype: int64"
      ]
     },
     "execution_count": 64,
     "metadata": {},
     "output_type": "execute_result"
    }
   ],
   "source": [
    "netflix_df2.groupby(\"Genre\").size()"
   ]
  },
  {
   "cell_type": "markdown",
   "id": "427cbe07-d83e-4312-96bc-1dd94407c90f",
   "metadata": {},
   "source": [
    "Comedies"
   ]
  },
  {
   "cell_type": "code",
   "execution_count": 65,
   "id": "2df47f0c-01ca-4644-9b1f-3d0e68753bc2",
   "metadata": {},
   "outputs": [],
   "source": [
    "netflix_df2[\"Genre\"] = netflix_df2[\"Genre\"].str.replace(r'Satire', 'Dark-comedy', regex=True)"
   ]
  },
  {
   "cell_type": "code",
   "execution_count": 66,
   "id": "0cd83518-0f46-4d65-8785-a67cab6f872d",
   "metadata": {},
   "outputs": [],
   "source": [
    "netflix_df2[\"Genre\"] = netflix_df2[\"Genre\"].str.replace(r'Coming of age comedy drama', 'Comedy drama', regex=True)"
   ]
  },
  {
   "cell_type": "code",
   "execution_count": 67,
   "id": "4b56adb7-89d8-4a93-a7c3-11a692768d00",
   "metadata": {},
   "outputs": [],
   "source": [
    "netflix_df2.loc[386, 'Genre'] = 'Action comedy'"
   ]
  },
  {
   "cell_type": "code",
   "execution_count": 68,
   "id": "eda9919b-99f4-4669-87c2-ae246550b5ae",
   "metadata": {},
   "outputs": [],
   "source": [
    "netflix_df2.loc[243, 'Genre'] = 'Comedy drama'"
   ]
  },
  {
   "cell_type": "code",
   "execution_count": 69,
   "id": "0f9a929a-cbb1-44a2-984b-713c0cb32ff2",
   "metadata": {},
   "outputs": [],
   "source": [
    "netflix_df2.loc[\n",
    "    netflix_df2['Genre'].str.contains('Dark', case=False, na=False),\n",
    "    'Genre'\n",
    "] = 'Dark comedy'"
   ]
  },
  {
   "cell_type": "code",
   "execution_count": 70,
   "id": "20133417-b482-4a59-af56-33876ba80e7f",
   "metadata": {},
   "outputs": [],
   "source": [
    "netflix_df2.loc[netflix_df2['Genre'].str.contains('Heist', case=False, na=False), 'Genre'] = 'Crime thriller'"
   ]
  },
  {
   "cell_type": "code",
   "execution_count": 71,
   "id": "f6f27d25-e966-401d-9eb3-3a15b2462c72",
   "metadata": {},
   "outputs": [],
   "source": [
    "netflix_df2.loc[netflix_df2['Genre'].str.contains('Romantic comedy drama', case=False, na=False), 'Genre'] = 'Romantic comedy'"
   ]
  },
  {
   "cell_type": "markdown",
   "id": "428eb5a2-e868-4d9b-9548-45c24586ce8e",
   "metadata": {},
   "source": [
    "다큐멘터리 카테고리 정리"
   ]
  },
  {
   "cell_type": "code",
   "execution_count": 72,
   "id": "d00a5bb4-ec0a-4977-874c-d8a8636faa06",
   "metadata": {},
   "outputs": [],
   "source": [
    "netflix_df2.loc[\n",
    "    netflix_df2['Genre'].str.contains('After', case=False, na=False),\n",
    "    'Genre'\n",
    "] = 'bonus content'"
   ]
  },
  {
   "cell_type": "code",
   "execution_count": 73,
   "id": "a310e232-9b42-461c-8ab3-17fb3839317d",
   "metadata": {},
   "outputs": [],
   "source": [
    "netflix_df2.loc[\n",
    "    netflix_df2['Genre'].str.contains('making of', case=False, na=False),\n",
    "    'Genre'\n",
    "] = 'bonus content'"
   ]
  },
  {
   "cell_type": "code",
   "execution_count": 74,
   "id": "c8304467-d61c-44bd-9d69-d69a6f788b44",
   "metadata": {},
   "outputs": [],
   "source": [
    "netflix_df2.loc[457, 'Genre'] = 'Documentary reality'"
   ]
  },
  {
   "cell_type": "code",
   "execution_count": 75,
   "id": "b3718270-c20c-4e0c-84f2-f2e5c9b6e647",
   "metadata": {},
   "outputs": [],
   "source": [
    "rows_title = netflix_df2[netflix_df2['Title'].str.contains('christ', case=False, na=False) & netflix_df2['Genre'].str.contains('Anime', case=False, na=False)]"
   ]
  },
  {
   "cell_type": "code",
   "execution_count": 76,
   "id": "2242d454-8d26-415f-93a9-9b0b2ae8f74d",
   "metadata": {},
   "outputs": [],
   "source": [
    "netflix_df2['Premiere'] = pd.to_datetime(netflix_df2['Premiere'], errors='coerce')\n",
    "\n",
    "# 11월과 12월에 개봉된 영화 필터링\n",
    "nov_dec_releases = netflix_df2[netflix_df2['Premiere'].dt.month.isin([11, 12])]\n"
   ]
  },
  {
   "cell_type": "code",
   "execution_count": 77,
   "id": "2a5b7cbf-a446-4c09-b227-0124fab95088",
   "metadata": {},
   "outputs": [],
   "source": [
    "#전처리2차 저장\n",
    "netflix_df2.to_csv(\"./data/Netflix_mission_processed_2.csv\", index=False)"
   ]
  },
  {
   "cell_type": "code",
   "execution_count": 78,
   "id": "b0b406ff-67cd-4cc9-8557-19fc477a1872",
   "metadata": {},
   "outputs": [],
   "source": [
    "#전처리 2차 불러오기\n",
    "import pandas as pd\n",
    "\n",
    "netflix_df3 = pd.read_csv(\"./data/Netflix_mission_processed_2.csv\", encoding = 'ISO-8859-1')"
   ]
  },
  {
   "cell_type": "code",
   "execution_count": 79,
   "id": "7dce686f-42da-4345-aff9-fca454f0a98e",
   "metadata": {},
   "outputs": [],
   "source": [
    "genre_mapping = {\n",
    "    \"Action\": \"Action & Adventure\",\n",
    "    \"Action Fantasy\": \"Action & Adventure\",\n",
    "    \"Action War\": \"Action & Adventure\",\n",
    "    \"Action Western\": \"Action & Adventure\",\n",
    "    \"Action comedy\": \"Action & Adventure\",\n",
    "    \"Action thriller\": \"Action & Adventure\",\n",
    "    \"Adventure\": \"Action & Adventure\",\n",
    "    \"Adventure comedy\": \"Action & Adventure\",\n",
    "    \"Adventure romance\": \"Action & Adventure\",\n",
    "    \"Anime\": \"Anime\",\n",
    "    \"Anime comedy\": \"Anime\",\n",
    "    \"Anime fantasy\": \"Anime\",\n",
    "    \"Anime musical\": \"Anime\",\n",
    "    \"Anime sci-Fi\": \"Anime\",\n",
    "    \"Christmas Romance\": \"Christmas\",\n",
    "    \"Christmas comedy\": \"Christmas\",\n",
    "    \"Christmas musical\": \"Christmas\",\n",
    "    \"Anime christmas\": \"Christmas\",\n",
    "    \"Comedy\": \"Comedies\",\n",
    "    \"Comedy drama\": \"Comedies\",\n",
    "    \"Comedy horror\": \"Comedies\",\n",
    "    \"Comedy musical\": \"Comedies\",\n",
    "    \"Comedy mystery\": \"Comedies\",\n",
    "    \"Teen comedy drama\": \"Comedies\",\n",
    "    \"Teen comedy horror\": \"Comedies\",\n",
    "    \"Dark comedy\": \"Comedies\",\n",
    "    \"Thriller\": \"Thrillers\",\n",
    "    \"Spy thriller\": \"Thrillers\",\n",
    "    \"Crime drama\": \"Thrillers\",\n",
    "    \"Crime thriller\": \"Thrillers\",\n",
    "    \"Political thriller\": \"Thrillers\",\n",
    "    \"Psychological thriller\": \"Thrillers\",\n",
    "    \"Psychological thriller drama\": \"Thrillers\",\n",
    "    \"Horror\": \"Horror & Mystery\",\n",
    "    \"Horror anthology\": \"Horror & Mystery\",\n",
    "    \"Psychological horror\": \"Horror & Mystery\",\n",
    "    \"Horror comedy\": \"Horror & Mystery\",\n",
    "    \"Horror crime drama\": \"Horror & Mystery\",\n",
    "    \"Horror thriller\": \"Horror & Mystery\",\n",
    "    \"Mystery\": \"Horror & Mystery\",\n",
    "    \"Documentary\": \"Documentary\",\n",
    "    \"Mentalism special\": \"Documentary\",\n",
    "    \"Aftershow interview\": \"Documentary\",\n",
    "    \"Making of\": \"Documentary\",\n",
    "    \"One man show\": \"Documentary\",\n",
    "    \"Concert film\": \"Documentary\",\n",
    "    \"Mockumentary\": \"Documentary\",\n",
    "    \"bonus content\": \"Documentary\",\n",
    "    \"documentary reality\": \"Documentary\",\n",
    "    \"Drama\": \"Dramas\",\n",
    "    \"Drama comedy\": \"Dramas\",\n",
    "    \"Drama horror\": \"Dramas\",\n",
    "    \"Drama musical\": \"Dramas\",\n",
    "    \"Biographical comedy\": \"Dramas\",\n",
    "    \"Biopic\": \"Dramas\",\n",
    "    \"Sports drama\": \"Dramas\",\n",
    "    \"Sports film\": \"Dramas\",\n",
    "    \"Romance\": \"Romance\",\n",
    "    \"Romantic comedy\": \"Romance\",\n",
    "    \"Romantic drama\": \"Romance\",\n",
    "    \"Romantic teen drama\": \"Romance\",\n",
    "    \"Romantic thriller\": \"Romance\",\n",
    "    \"Sci-Fi\": \"Sci-Fi\",\n",
    "    \"Sci-Fi action\": \"Sci-Fi\",\n",
    "    \"Sci-Fi adventure\": \"Sci-Fi\",\n",
    "    \"Sci-Fi drama\": \"Sci-Fi\",\n",
    "    \"Sci-Fi mystery\": \"Sci-Fi\",\n",
    "    \"Sci-Fi thriller\": \"Sci-Fi\",\n",
    "    \"Variety show\": \"TV show\",\n",
    "    \"Hidden camera prank comedy\": \"TV show\",\n",
    "    \"Anime short\": \"shorts\",\n",
    "    \"Drama short\": \"shorts\",\n",
    "    \"Musical short\": \"shorts\"\n",
    "}"
   ]
  },
  {
   "cell_type": "code",
   "execution_count": 80,
   "id": "bfc3fa0d-cd2c-47e0-90e8-cc7e027d4d46",
   "metadata": {},
   "outputs": [],
   "source": [
    "netflix_df3['Main Genre'] = netflix_df['Genre'].map(genre_mapping)"
   ]
  },
  {
   "cell_type": "code",
   "execution_count": 81,
   "id": "bada619c-472d-4b47-a260-19f654148f36",
   "metadata": {},
   "outputs": [],
   "source": [
    "netflix_df3['Genre'] = netflix_df3['Genre'].str.strip().str.lower()\n",
    "\n",
    "# 매핑 사전도 동일하게 처리\n",
    "cleaned_genre_mapping = {k.lower().strip(): v for k, v in genre_mapping.items()}\n",
    "\n",
    "# 매핑 적용\n",
    "netflix_df3['Main Genre'] = netflix_df3['Genre'].map(cleaned_genre_mapping)"
   ]
  },
  {
   "cell_type": "code",
   "execution_count": 82,
   "id": "cc4a171e-ea1e-4fcd-b552-0e1ac0404277",
   "metadata": {},
   "outputs": [],
   "source": [
    "netflix_df3.loc[netflix_df3['Runtime'] < 40, 'Main Genre'] = 'Shorts'"
   ]
  },
  {
   "cell_type": "code",
   "execution_count": 83,
   "id": "8388e91e-0094-4ad5-8012-60f158933af9",
   "metadata": {},
   "outputs": [],
   "source": [
    "netflix_df3.loc[netflix_df3['Genre'].str.contains('anime christmas'), 'Main Genre'] = 'Anime'"
   ]
  },
  {
   "cell_type": "code",
   "execution_count": 84,
   "id": "084c0e27-aef7-4525-890b-5868709a5fe7",
   "metadata": {},
   "outputs": [
    {
     "data": {
      "text/html": [
       "<div>\n",
       "<style scoped>\n",
       "    .dataframe tbody tr th:only-of-type {\n",
       "        vertical-align: middle;\n",
       "    }\n",
       "\n",
       "    .dataframe tbody tr th {\n",
       "        vertical-align: top;\n",
       "    }\n",
       "\n",
       "    .dataframe thead th {\n",
       "        text-align: right;\n",
       "    }\n",
       "</style>\n",
       "<table border=\"1\" class=\"dataframe\">\n",
       "  <thead>\n",
       "    <tr style=\"text-align: right;\">\n",
       "      <th></th>\n",
       "      <th>Runtime</th>\n",
       "      <th>IMDB Score</th>\n",
       "    </tr>\n",
       "  </thead>\n",
       "  <tbody>\n",
       "    <tr>\n",
       "      <th>count</th>\n",
       "      <td>584.000000</td>\n",
       "      <td>584.000000</td>\n",
       "    </tr>\n",
       "    <tr>\n",
       "      <th>mean</th>\n",
       "      <td>93.577055</td>\n",
       "      <td>6.271747</td>\n",
       "    </tr>\n",
       "    <tr>\n",
       "      <th>std</th>\n",
       "      <td>27.761683</td>\n",
       "      <td>0.979256</td>\n",
       "    </tr>\n",
       "    <tr>\n",
       "      <th>min</th>\n",
       "      <td>4.000000</td>\n",
       "      <td>2.500000</td>\n",
       "    </tr>\n",
       "    <tr>\n",
       "      <th>25%</th>\n",
       "      <td>86.000000</td>\n",
       "      <td>5.700000</td>\n",
       "    </tr>\n",
       "    <tr>\n",
       "      <th>50%</th>\n",
       "      <td>97.000000</td>\n",
       "      <td>6.350000</td>\n",
       "    </tr>\n",
       "    <tr>\n",
       "      <th>75%</th>\n",
       "      <td>108.000000</td>\n",
       "      <td>7.000000</td>\n",
       "    </tr>\n",
       "    <tr>\n",
       "      <th>max</th>\n",
       "      <td>209.000000</td>\n",
       "      <td>9.000000</td>\n",
       "    </tr>\n",
       "  </tbody>\n",
       "</table>\n",
       "</div>"
      ],
      "text/plain": [
       "          Runtime  IMDB Score\n",
       "count  584.000000  584.000000\n",
       "mean    93.577055    6.271747\n",
       "std     27.761683    0.979256\n",
       "min      4.000000    2.500000\n",
       "25%     86.000000    5.700000\n",
       "50%     97.000000    6.350000\n",
       "75%    108.000000    7.000000\n",
       "max    209.000000    9.000000"
      ]
     },
     "execution_count": 84,
     "metadata": {},
     "output_type": "execute_result"
    }
   ],
   "source": [
    "netflix_df3.describe()"
   ]
  },
  {
   "cell_type": "code",
   "execution_count": 85,
   "id": "5c225bd9-3dcd-4fd2-b4f3-bf26d36a30c2",
   "metadata": {},
   "outputs": [],
   "source": [
    "#전처리 대분류생성 완료 3차 저장\n",
    "netflix_df3.to_csv(\"./data/Netflix_mission_processed_3.csv\", index=False)"
   ]
  },
  {
   "cell_type": "markdown",
   "id": "25d7f649-fbd7-4e4c-97e3-5116cb6145f6",
   "metadata": {
    "jp-MarkdownHeadingCollapsed": true
   },
   "source": [
    "### 3. EDA"
   ]
  },
  {
   "cell_type": "markdown",
   "id": "7f2ec3de-6522-4c19-9da5-8bd943eb67f1",
   "metadata": {},
   "source": [
    "- **가설 1.** 영상 트렌드, 계절성 등 시장 특수성이 반영 된 영화가 평점이 높을 것이다.\n",
    "- **가설 2.** 실존 유명인의 다큐멘터리, 백스테이지에서 벌어지는 실제 이야기를 궁금해하는 소비자가 많을 것이다."
   ]
  },
  {
   "cell_type": "code",
   "execution_count": 97,
   "id": "7663e5fd-c1a8-48e8-a837-6ed2f7755bb8",
   "metadata": {},
   "outputs": [],
   "source": [
    "# 실존 유명인의 다큐멘터리, 백스테이지에서의 이야기를 궁금해하는 소비자가 많을 것이다.\n",
    "# 드라마, 로맨스 등 시청자의 삶에 투영할 수 있는 공감가는 이야기에 평점이 높을 것이다.\n",
    "# 친근한 것과 새로운 것의 경계"
   ]
  },
  {
   "cell_type": "code",
   "execution_count": 86,
   "id": "b93f5563-aa14-45b3-a3b2-c543607596df",
   "metadata": {},
   "outputs": [],
   "source": [
    "#전처리 3차 불러오기\n",
    "import pandas as pd\n",
    "\n",
    "netflix_df3 = pd.read_csv(\"./data/Netflix_mission_processed_3.csv\", encoding = 'ISO-8859-1')"
   ]
  },
  {
   "cell_type": "code",
   "execution_count": 87,
   "id": "f221e54c-8f43-48c9-87be-6fb8770530b0",
   "metadata": {},
   "outputs": [],
   "source": [
    "# 장르 별 평점 분포"
   ]
  },
  {
   "cell_type": "code",
   "execution_count": 88,
   "id": "571aec91-749d-4680-b539-615a1ffc5864",
   "metadata": {},
   "outputs": [],
   "source": [
    "import seaborn as sns\n",
    "from matplotlib import pyplot as plt"
   ]
  },
  {
   "cell_type": "code",
   "execution_count": 89,
   "id": "8d104011-6b23-4fe7-95b9-2567527df1dc",
   "metadata": {},
   "outputs": [],
   "source": [
    "sns.set_style(\"whitegrid\")"
   ]
  },
  {
   "cell_type": "code",
   "execution_count": 90,
   "id": "16e95fff-2f87-4118-894b-0c59ff9682d9",
   "metadata": {},
   "outputs": [
    {
     "data": {
      "image/png": "[encoded data removed]",
      "text/plain": [
       "<Figure size 1200x600 with 1 Axes>"
      ]
     },
     "metadata": {},
     "output_type": "display_data"
    }
   ],
   "source": [
    "order = netflix_df3['Main Genre'].value_counts().index\n",
    "plt.figure(figsize=(12, 6))  # 그래프 크기 조정\n",
    "\n",
    "sns.stripplot(\n",
    "    \n",
    "    x=\"Main Genre\",\n",
    "    y=\"IMDB Score\",\n",
    "    data=netflix_df3,\n",
    "    size=5,\n",
    "    order=order\n",
    ")\n",
    "plt.xticks(rotation=90)  # x축 카테고리 레이블 회전\n",
    "plt.title('Score Distribution by Main Genre')\n",
    "plt.xlabel('Main Genre')\n",
    "plt.ylabel('IMDB Score')\n",
    "plt.tight_layout() \n",
    "plt.show()"
   ]
  },
  {
   "cell_type": "code",
   "execution_count": 91,
   "id": "4786fc48-4291-422a-a75c-c056ab0418d0",
   "metadata": {},
   "outputs": [
    {
     "name": "stderr",
     "output_type": "stream",
     "text": [
      "/var/folders/ly/7phrswwd4gzcgyt5t5p35nqw0000gn/T/ipykernel_69181/4133604756.py:3: FutureWarning: \n",
      "\n",
      "Passing `palette` without assigning `hue` is deprecated and will be removed in v0.14.0. Assign the `x` variable to `hue` and set `legend=False` for the same effect.\n",
      "\n",
      "  sns.countplot(\n"
     ]
    },
    {
     "data": {
      "image/png": "[encoded data removed]",
      "text/plain": [
       "<Figure size 1200x600 with 1 Axes>"
      ]
     },
     "metadata": {},
     "output_type": "display_data"
    }
   ],
   "source": [
    "order = netflix_df3['Main Genre'].value_counts().index\n",
    "plt.figure(figsize=(12, 6))  # 그래프 크기 조정\n",
    "sns.countplot(\n",
    "    x=\"Main Genre\",\n",
    "    palette=\"pastel\",\n",
    "    data=netflix_df3,\n",
    "    order=order\n",
    ")\n",
    "plt.xticks(rotation=90)  # x축 카테고리 레이블 회전\n",
    "plt.title('Score Distribution by Main Genre')\n",
    "plt.xlabel('Main Genre')\n",
    "plt.ylabel('Count')\n",
    "plt.tight_layout() \n",
    "plt.show()"
   ]
  },
  {
   "cell_type": "markdown",
   "id": "01f313f3-7af6-4a61-a696-c8d0711ab340",
   "metadata": {},
   "source": [
    "전체 평점점수 평균 6.2점, box권 50% 6.35점으로 6점이상 작품으로 표를 다시 그려보았다. "
   ]
  },
  {
   "cell_type": "code",
   "execution_count": 93,
   "id": "e2ceb3fa-9ae1-4998-98e8-664a0eaafa17",
   "metadata": {},
   "outputs": [],
   "source": [
    "upper_df = netflix_df3[netflix_df3[\"IMDB Score\"]>= 6]"
   ]
  },
  {
   "cell_type": "code",
   "execution_count": 94,
   "id": "43b4db93-7113-4cb1-9761-e7388cf7d6e6",
   "metadata": {},
   "outputs": [
    {
     "data": {
      "image/png": "[encoded data removed]",
      "text/plain": [
       "<Figure size 1200x600 with 1 Axes>"
      ]
     },
     "metadata": {},
     "output_type": "display_data"
    }
   ],
   "source": [
    "order = upper_df['Main Genre'].value_counts().index\n",
    "plt.figure(figsize=(12, 6))  # 그래프 크기 조정\n",
    "\n",
    "sns.stripplot(\n",
    "    \n",
    "    x=\"Main Genre\",\n",
    "    y=\"IMDB Score\",\n",
    "    data=upper_df,\n",
    "    size=5,\n",
    "    order=order\n",
    ")\n",
    "plt.xticks(rotation=90)  # x축 카테고리 레이블 회전\n",
    "plt.title('Score Distribution by Main Genre')\n",
    "plt.xlabel('Main Genre')\n",
    "plt.ylabel('IMDB Score')\n",
    "plt.tight_layout() \n",
    "plt.show()"
   ]
  },
  {
   "cell_type": "code",
   "execution_count": 95,
   "id": "ec443c2b-c159-4f17-99d9-480b96de74b3",
   "metadata": {},
   "outputs": [
    {
     "name": "stderr",
     "output_type": "stream",
     "text": [
      "/var/folders/ly/7phrswwd4gzcgyt5t5p35nqw0000gn/T/ipykernel_69181/3782440691.py:3: FutureWarning: \n",
      "\n",
      "Passing `palette` without assigning `hue` is deprecated and will be removed in v0.14.0. Assign the `x` variable to `hue` and set `legend=False` for the same effect.\n",
      "\n",
      "  sns.countplot(\n"
     ]
    },
    {
     "data": {
      "image/png": "[encoded data removed]",
      "text/plain": [
       "<Figure size 1200x600 with 1 Axes>"
      ]
     },
     "metadata": {},
     "output_type": "display_data"
    }
   ],
   "source": [
    "order = upper_df['Main Genre'].value_counts().index\n",
    "plt.figure(figsize=(12, 6))  # 그래프 크기 조정\n",
    "sns.countplot(\n",
    "    x=\"Main Genre\",\n",
    "    palette=\"pastel\",\n",
    "    data=upper_df,\n",
    "    order=order\n",
    ")\n",
    "plt.xticks(rotation=90)  # x축 카테고리 레이블 회전\n",
    "plt.title('Score Distribution by Main Genre')\n",
    "plt.xlabel('Main Genre')\n",
    "plt.ylabel('Count')\n",
    "plt.tight_layout() \n",
    "plt.show()"
   ]
  },
  {
   "cell_type": "code",
   "execution_count": 96,
   "id": "267f4cf9-d07c-4970-8134-9d771b530e50",
   "metadata": {},
   "outputs": [
    {
     "name": "stderr",
     "output_type": "stream",
     "text": [
      "/var/folders/ly/7phrswwd4gzcgyt5t5p35nqw0000gn/T/ipykernel_69181/428830832.py:10: FutureWarning: \n",
      "\n",
      "Passing `palette` without assigning `hue` is deprecated and will be removed in v0.14.0. Assign the `x` variable to `hue` and set `legend=False` for the same effect.\n",
      "\n",
      "  sns.barplot(x='Main Genre', y='Ratio_Above_6', data=ratio_df_sorted, palette=\"viridis\")\n"
     ]
    },
    {
     "data": {
      "image/png": "[encoded data removed]",
      "text/plain": [
       "<Figure size 1000x600 with 1 Axes>"
      ]
     },
     "metadata": {},
     "output_type": "display_data"
    }
   ],
   "source": [
    "# 6점 이상과 이하의 비율 계산\n",
    "netflix_df3['Above_6'] = netflix_df3['IMDB Score'] >= 6\n",
    "ratio_df = netflix_df3.groupby('Main Genre')['Above_6'].mean().reset_index()\n",
    "ratio_df.columns = ['Main Genre', 'Ratio_Above_6']\n",
    "ratio_df_sorted = ratio_df.sort_values(by='Ratio_Above_6', ascending=False)\n",
    "\n",
    "# 시각화\n",
    "plt.figure(figsize=(10, 6))\n",
    "plt.xticks(rotation=90)\n",
    "sns.barplot(x='Main Genre', y='Ratio_Above_6', data=ratio_df_sorted, palette=\"viridis\")\n",
    "plt.title('Ratio of Scores Above 6 by Genre')\n",
    "plt.xlabel('Main Genre')\n",
    "plt.ylabel('Ratio Above 6')\n",
    "plt.ylim(0, 1)\n",
    "plt.tight_layout()\n",
    "plt.show()"
   ]
  },
  {
   "cell_type": "code",
   "execution_count": 98,
   "id": "1ce9cf68-5b40-4192-b051-85dbc2026954",
   "metadata": {},
   "outputs": [],
   "source": [
    "# 40분이하의 영화를 Shorts film으로 불리는데, 해당하는 영화들이 주로 평점이 높았다.(짧은 다큐멘터리, 영화 제작, 인플루언서 관련 된 비하인드, 에프터 씬을 보너스컨텐츠로 분류했다. )"
   ]
  },
  {
   "cell_type": "code",
   "execution_count": 99,
   "id": "f3681398-1c46-4ca4-b1d8-4b6d1cfcc452",
   "metadata": {},
   "outputs": [],
   "source": [
    "# Anime 의 경우 특정매니아층, 어린이, 키즈 관람객을 위한 컨텐츠"
   ]
  },
  {
   "cell_type": "code",
   "execution_count": 100,
   "id": "cf6c9283-a2a4-47b7-b00d-20ff9a6d85d2",
   "metadata": {},
   "outputs": [],
   "source": [
    "rows = netflix_df3[netflix_df3['Main Genre'].str.contains('Shorts', case=False, na=False)]"
   ]
  },
  {
   "cell_type": "markdown",
   "id": "6a5ab3c9-8112-41a0-8f66-49779da35333",
   "metadata": {},
   "source": [
    "### 4.T-test 검증"
   ]
  },
  {
   "cell_type": "markdown",
   "id": "78b744de-fdc4-4a9c-9c26-92b8ef5120fd",
   "metadata": {},
   "source": [
    "#### documentary"
   ]
  },
  {
   "cell_type": "code",
   "execution_count": 103,
   "id": "e1b033cd-fcc4-445e-bc38-9da0149977ef",
   "metadata": {},
   "outputs": [
    {
     "name": "stdout",
     "output_type": "stream",
     "text": [
      "T-statistic: 12.199732886657273, P-value: 2.478353720704024e-27\n",
      "유의미한 차이가 있음\n"
     ]
    }
   ],
   "source": [
    "import pandas as pd\n",
    "import scipy.stats as stats\n",
    "\n",
    "\n",
    "# 특정 장르(A)와 다른 장르의 데이터 분리\n",
    "genre_a_scores = netflix_df3[netflix_df3['Main Genre'] == 'Documentary']['IMDB Score']\n",
    "other_genres_scores = netflix_df3[netflix_df3['Main Genre'] != 'Documentary']['IMDB Score']\n",
    "\n",
    "# 독립 표본 t-검정 수행\n",
    "t_stat, p_value = stats.ttest_ind(genre_a_scores, other_genres_scores, equal_var=False)\n",
    "\n",
    "# 결과 출력\n",
    "print(f\"T-statistic: {t_stat}, P-value: {p_value}\")\n",
    "\n",
    "# P-value 해석\n",
    "if p_value < 0.05:\n",
    "    print(\"유의미한 차이가 있음\")\n",
    "else:\n",
    "    print(\"유의미한 차이가 없음\")\n"
   ]
  },
  {
   "cell_type": "markdown",
   "id": "8efd3fc2-1f26-4361-99cc-6b1f569b4e05",
   "metadata": {},
   "source": [
    "#### anime"
   ]
  },
  {
   "cell_type": "code",
   "execution_count": 104,
   "id": "8f96646b-841c-4434-b592-be3c70b82615",
   "metadata": {},
   "outputs": [
    {
     "name": "stdout",
     "output_type": "stream",
     "text": [
      "T-statistic: 2.6114986480542965, P-value: 0.018367244638247637\n",
      "유의미한 차이가 있음\n"
     ]
    }
   ],
   "source": [
    "# 특정 장르(A)와 다른 장르의 데이터 분리\n",
    "genre_a_scores = netflix_df3[netflix_df3['Main Genre'] == 'Anime']['IMDB Score']\n",
    "other_genres_scores = netflix_df3[netflix_df3['Main Genre'] != 'Anime']['IMDB Score']\n",
    "\n",
    "# 독립 표본 t-검정 수행\n",
    "t_stat, p_value = stats.ttest_ind(genre_a_scores, other_genres_scores, equal_var=False)\n",
    "\n",
    "# 결과 출력\n",
    "print(f\"T-statistic: {t_stat}, P-value: {p_value}\")\n",
    "\n",
    "# P-value 해석\n",
    "if p_value < 0.05:\n",
    "    print(\"유의미한 차이가 있음\")\n",
    "else:\n",
    "    print(\"유의미한 차이가 없음\")\n"
   ]
  },
  {
   "cell_type": "markdown",
   "id": "d038633a-cee4-4b4d-9435-3cedc44efc4e",
   "metadata": {},
   "source": [
    "#### shorts"
   ]
  },
  {
   "cell_type": "code",
   "execution_count": 106,
   "id": "9c5367b0-c58f-4962-8d01-4b8fa8ab2308",
   "metadata": {},
   "outputs": [
    {
     "name": "stdout",
     "output_type": "stream",
     "text": [
      "T-statistic: 2.7217675333539284, P-value: 0.008945112331755293\n",
      "유의미한 차이가 있음\n"
     ]
    }
   ],
   "source": [
    "# 특정 장르(A)와 다른 장르의 데이터 분리\n",
    "genre_a_scores = netflix_df3[netflix_df3['Main Genre'] == 'Shorts']['IMDB Score']\n",
    "other_genres_scores = netflix_df3[netflix_df3['Main Genre'] != 'Shorts']['IMDB Score']\n",
    "\n",
    "# 독립 표본 t-검정 수행\n",
    "t_stat, p_value = stats.ttest_ind(genre_a_scores, other_genres_scores, equal_var=False)\n",
    "\n",
    "# 결과 출력\n",
    "print(f\"T-statistic: {t_stat}, P-value: {p_value}\")\n",
    "\n",
    "# P-value 해석\n",
    "if p_value < 0.05:\n",
    "    print(\"유의미한 차이가 있음\")\n",
    "else:\n",
    "    print(\"유의미한 차이가 없음\")\n"
   ]
  },
  {
   "cell_type": "code",
   "execution_count": null,
   "id": "90103645-d003-4dc5-b61c-ffcf62340c25",
   "metadata": {},
   "outputs": [],
   "source": []
  }
 ],
 "metadata": {
  "kernelspec": {
   "display_name": "Python 3 (ipykernel)",
   "language": "python",
   "name": "python3"
  },
  "language_info": {
   "codemirror_mode": {
    "name": "ipython",
    "version": 3
   },
   "file_extension": ".py",
   "mimetype": "text/x-python",
   "name": "python",
   "nbconvert_exporter": "python",
   "pygments_lexer": "ipython3",
   "version": "3.12.3"
  }
 },
 "nbformat": 4,
 "nbformat_minor": 5
}
